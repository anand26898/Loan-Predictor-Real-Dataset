{
 "cells": [
  {
   "cell_type": "code",
   "execution_count": null,
   "metadata": {
    "id": "66ce50b0-f5ca-49ba-bc20-61ee2277fe5e"
   },
   "outputs": [],
   "source": [
    "# importing necessary libraries\n",
    "import pandas as pd"
   ]
  },
  {
   "cell_type": "code",
   "execution_count": 30,
   "metadata": {
    "colab": {
     "base_uri": "https://localhost:8080/",
     "height": 377
    },
    "id": "1918a891-c091-42f4-b2d7-0c26c29fca29",
    "outputId": "a38df0fd-660b-4eb5-acb3-9673ba29aaa6"
   },
   "outputs": [
    {
     "data": {
      "application/vnd.google.colaboratory.intrinsic+json": {
       "type": "dataframe",
       "variable_name": "df"
      },
      "text/html": [
       "\n",
       "  <div id=\"df-06cffbf6-a750-46ee-9e1a-824b6b93174e\" class=\"colab-df-container\">\n",
       "    <div>\n",
       "<style scoped>\n",
       "    .dataframe tbody tr th:only-of-type {\n",
       "        vertical-align: middle;\n",
       "    }\n",
       "\n",
       "    .dataframe tbody tr th {\n",
       "        vertical-align: top;\n",
       "    }\n",
       "\n",
       "    .dataframe thead th {\n",
       "        text-align: right;\n",
       "    }\n",
       "</style>\n",
       "<table border=\"1\" class=\"dataframe\">\n",
       "  <thead>\n",
       "    <tr style=\"text-align: right;\">\n",
       "      <th></th>\n",
       "      <th>borrower_id</th>\n",
       "      <th>loan_amnt</th>\n",
       "      <th>term</th>\n",
       "      <th>emp_title</th>\n",
       "      <th>emp_length</th>\n",
       "      <th>home_ownership</th>\n",
       "      <th>annual_inc</th>\n",
       "      <th>outcome</th>\n",
       "      <th>purpose</th>\n",
       "      <th>addr_state</th>\n",
       "      <th>...</th>\n",
       "      <th>num_tl_90g_dpd_24m</th>\n",
       "      <th>num_tl_op_past_12m</th>\n",
       "      <th>pct_tl_nvr_dlq</th>\n",
       "      <th>percent_bc_gt_75</th>\n",
       "      <th>pub_rec_bankruptcies</th>\n",
       "      <th>tax_liens</th>\n",
       "      <th>tot_hi_cred_lim</th>\n",
       "      <th>total_bal_ex_mort</th>\n",
       "      <th>total_bc_limit</th>\n",
       "      <th>total_il_high_credit_limit</th>\n",
       "    </tr>\n",
       "  </thead>\n",
       "  <tbody>\n",
       "    <tr>\n",
       "      <th>0</th>\n",
       "      <td>537185</td>\n",
       "      <td>16075.0</td>\n",
       "      <td>60 months</td>\n",
       "      <td>NaN</td>\n",
       "      <td>NaN</td>\n",
       "      <td>MORTGAGE</td>\n",
       "      <td>50289.0</td>\n",
       "      <td>Fully Paid</td>\n",
       "      <td>home_improvement</td>\n",
       "      <td>SC</td>\n",
       "      <td>...</td>\n",
       "      <td>0.0</td>\n",
       "      <td>2.0</td>\n",
       "      <td>95.7</td>\n",
       "      <td>100.0</td>\n",
       "      <td>0.0</td>\n",
       "      <td>0</td>\n",
       "      <td>227376.0</td>\n",
       "      <td>15756.0</td>\n",
       "      <td>11900.0</td>\n",
       "      <td>6000.0</td>\n",
       "    </tr>\n",
       "    <tr>\n",
       "      <th>1</th>\n",
       "      <td>1810804</td>\n",
       "      <td>8000.0</td>\n",
       "      <td>36 months</td>\n",
       "      <td>Graydon Head &amp; Ritchey LLP</td>\n",
       "      <td>10+ years</td>\n",
       "      <td>MORTGAGE</td>\n",
       "      <td>64000.0</td>\n",
       "      <td>Fully Paid</td>\n",
       "      <td>debt_consolidation</td>\n",
       "      <td>IN</td>\n",
       "      <td>...</td>\n",
       "      <td>0.0</td>\n",
       "      <td>0.0</td>\n",
       "      <td>100.0</td>\n",
       "      <td>75.0</td>\n",
       "      <td>1.0</td>\n",
       "      <td>0</td>\n",
       "      <td>121881.0</td>\n",
       "      <td>33618.0</td>\n",
       "      <td>13700.0</td>\n",
       "      <td>29400.0</td>\n",
       "    </tr>\n",
       "    <tr>\n",
       "      <th>2</th>\n",
       "      <td>388855</td>\n",
       "      <td>23700.0</td>\n",
       "      <td>36 months</td>\n",
       "      <td>Director of IT</td>\n",
       "      <td>3 years</td>\n",
       "      <td>RENT</td>\n",
       "      <td>88000.0</td>\n",
       "      <td>Fully Paid</td>\n",
       "      <td>debt_consolidation</td>\n",
       "      <td>FL</td>\n",
       "      <td>...</td>\n",
       "      <td>0.0</td>\n",
       "      <td>5.0</td>\n",
       "      <td>100.0</td>\n",
       "      <td>10.0</td>\n",
       "      <td>1.0</td>\n",
       "      <td>0</td>\n",
       "      <td>99201.0</td>\n",
       "      <td>58898.0</td>\n",
       "      <td>18700.0</td>\n",
       "      <td>69501.0</td>\n",
       "    </tr>\n",
       "    <tr>\n",
       "      <th>3</th>\n",
       "      <td>1137067</td>\n",
       "      <td>1200.0</td>\n",
       "      <td>36 months</td>\n",
       "      <td>NaN</td>\n",
       "      <td>NaN</td>\n",
       "      <td>MORTGAGE</td>\n",
       "      <td>81000.0</td>\n",
       "      <td>Fully Paid</td>\n",
       "      <td>other</td>\n",
       "      <td>NY</td>\n",
       "      <td>...</td>\n",
       "      <td>0.0</td>\n",
       "      <td>4.0</td>\n",
       "      <td>83.3</td>\n",
       "      <td>100.0</td>\n",
       "      <td>0.0</td>\n",
       "      <td>0</td>\n",
       "      <td>203983.0</td>\n",
       "      <td>20609.0</td>\n",
       "      <td>1100.0</td>\n",
       "      <td>26183.0</td>\n",
       "    </tr>\n",
       "    <tr>\n",
       "      <th>4</th>\n",
       "      <td>14585</td>\n",
       "      <td>3500.0</td>\n",
       "      <td>36 months</td>\n",
       "      <td>NaN</td>\n",
       "      <td>NaN</td>\n",
       "      <td>RENT</td>\n",
       "      <td>11736.0</td>\n",
       "      <td>Fully Paid</td>\n",
       "      <td>debt_consolidation</td>\n",
       "      <td>WA</td>\n",
       "      <td>...</td>\n",
       "      <td>0.0</td>\n",
       "      <td>1.0</td>\n",
       "      <td>100.0</td>\n",
       "      <td>100.0</td>\n",
       "      <td>1.0</td>\n",
       "      <td>0</td>\n",
       "      <td>16200.0</td>\n",
       "      <td>9459.0</td>\n",
       "      <td>2000.0</td>\n",
       "      <td>0.0</td>\n",
       "    </tr>\n",
       "  </tbody>\n",
       "</table>\n",
       "<p>5 rows × 78 columns</p>\n",
       "</div>\n",
       "    <div class=\"colab-df-buttons\">\n",
       "\n",
       "  <div class=\"colab-df-container\">\n",
       "    <button class=\"colab-df-convert\" onclick=\"convertToInteractive('df-06cffbf6-a750-46ee-9e1a-824b6b93174e')\"\n",
       "            title=\"Convert this dataframe to an interactive table.\"\n",
       "            style=\"display:none;\">\n",
       "\n",
       "  <svg xmlns=\"http://www.w3.org/2000/svg\" height=\"24px\" viewBox=\"0 -960 960 960\">\n",
       "    <path d=\"M120-120v-720h720v720H120Zm60-500h600v-160H180v160Zm220 220h160v-160H400v160Zm0 220h160v-160H400v160ZM180-400h160v-160H180v160Zm440 0h160v-160H620v160ZM180-180h160v-160H180v160Zm440 0h160v-160H620v160Z\"/>\n",
       "  </svg>\n",
       "    </button>\n",
       "\n",
       "  <style>\n",
       "    .colab-df-container {\n",
       "      display:flex;\n",
       "      gap: 12px;\n",
       "    }\n",
       "\n",
       "    .colab-df-convert {\n",
       "      background-color: #E8F0FE;\n",
       "      border: none;\n",
       "      border-radius: 50%;\n",
       "      cursor: pointer;\n",
       "      display: none;\n",
       "      fill: #1967D2;\n",
       "      height: 32px;\n",
       "      padding: 0 0 0 0;\n",
       "      width: 32px;\n",
       "    }\n",
       "\n",
       "    .colab-df-convert:hover {\n",
       "      background-color: #E2EBFA;\n",
       "      box-shadow: 0px 1px 2px rgba(60, 64, 67, 0.3), 0px 1px 3px 1px rgba(60, 64, 67, 0.15);\n",
       "      fill: #174EA6;\n",
       "    }\n",
       "\n",
       "    .colab-df-buttons div {\n",
       "      margin-bottom: 4px;\n",
       "    }\n",
       "\n",
       "    [theme=dark] .colab-df-convert {\n",
       "      background-color: #3B4455;\n",
       "      fill: #D2E3FC;\n",
       "    }\n",
       "\n",
       "    [theme=dark] .colab-df-convert:hover {\n",
       "      background-color: #434B5C;\n",
       "      box-shadow: 0px 1px 3px 1px rgba(0, 0, 0, 0.15);\n",
       "      filter: drop-shadow(0px 1px 2px rgba(0, 0, 0, 0.3));\n",
       "      fill: #FFFFFF;\n",
       "    }\n",
       "  </style>\n",
       "\n",
       "    <script>\n",
       "      const buttonEl =\n",
       "        document.querySelector('#df-06cffbf6-a750-46ee-9e1a-824b6b93174e button.colab-df-convert');\n",
       "      buttonEl.style.display =\n",
       "        google.colab.kernel.accessAllowed ? 'block' : 'none';\n",
       "\n",
       "      async function convertToInteractive(key) {\n",
       "        const element = document.querySelector('#df-06cffbf6-a750-46ee-9e1a-824b6b93174e');\n",
       "        const dataTable =\n",
       "          await google.colab.kernel.invokeFunction('convertToInteractive',\n",
       "                                                    [key], {});\n",
       "        if (!dataTable) return;\n",
       "\n",
       "        const docLinkHtml = 'Like what you see? Visit the ' +\n",
       "          '<a target=\"_blank\" href=https://colab.research.google.com/notebooks/data_table.ipynb>data table notebook</a>'\n",
       "          + ' to learn more about interactive tables.';\n",
       "        element.innerHTML = '';\n",
       "        dataTable['output_type'] = 'display_data';\n",
       "        await google.colab.output.renderOutput(dataTable, element);\n",
       "        const docLink = document.createElement('div');\n",
       "        docLink.innerHTML = docLinkHtml;\n",
       "        element.appendChild(docLink);\n",
       "      }\n",
       "    </script>\n",
       "  </div>\n",
       "\n",
       "\n",
       "<div id=\"df-3c999c87-e610-43f9-b204-9354431feb59\">\n",
       "  <button class=\"colab-df-quickchart\" onclick=\"quickchart('df-3c999c87-e610-43f9-b204-9354431feb59')\"\n",
       "            title=\"Suggest charts\"\n",
       "            style=\"display:none;\">\n",
       "\n",
       "<svg xmlns=\"http://www.w3.org/2000/svg\" height=\"24px\"viewBox=\"0 0 24 24\"\n",
       "     width=\"24px\">\n",
       "    <g>\n",
       "        <path d=\"M19 3H5c-1.1 0-2 .9-2 2v14c0 1.1.9 2 2 2h14c1.1 0 2-.9 2-2V5c0-1.1-.9-2-2-2zM9 17H7v-7h2v7zm4 0h-2V7h2v10zm4 0h-2v-4h2v4z\"/>\n",
       "    </g>\n",
       "</svg>\n",
       "  </button>\n",
       "\n",
       "<style>\n",
       "  .colab-df-quickchart {\n",
       "      --bg-color: #E8F0FE;\n",
       "      --fill-color: #1967D2;\n",
       "      --hover-bg-color: #E2EBFA;\n",
       "      --hover-fill-color: #174EA6;\n",
       "      --disabled-fill-color: #AAA;\n",
       "      --disabled-bg-color: #DDD;\n",
       "  }\n",
       "\n",
       "  [theme=dark] .colab-df-quickchart {\n",
       "      --bg-color: #3B4455;\n",
       "      --fill-color: #D2E3FC;\n",
       "      --hover-bg-color: #434B5C;\n",
       "      --hover-fill-color: #FFFFFF;\n",
       "      --disabled-bg-color: #3B4455;\n",
       "      --disabled-fill-color: #666;\n",
       "  }\n",
       "\n",
       "  .colab-df-quickchart {\n",
       "    background-color: var(--bg-color);\n",
       "    border: none;\n",
       "    border-radius: 50%;\n",
       "    cursor: pointer;\n",
       "    display: none;\n",
       "    fill: var(--fill-color);\n",
       "    height: 32px;\n",
       "    padding: 0;\n",
       "    width: 32px;\n",
       "  }\n",
       "\n",
       "  .colab-df-quickchart:hover {\n",
       "    background-color: var(--hover-bg-color);\n",
       "    box-shadow: 0 1px 2px rgba(60, 64, 67, 0.3), 0 1px 3px 1px rgba(60, 64, 67, 0.15);\n",
       "    fill: var(--button-hover-fill-color);\n",
       "  }\n",
       "\n",
       "  .colab-df-quickchart-complete:disabled,\n",
       "  .colab-df-quickchart-complete:disabled:hover {\n",
       "    background-color: var(--disabled-bg-color);\n",
       "    fill: var(--disabled-fill-color);\n",
       "    box-shadow: none;\n",
       "  }\n",
       "\n",
       "  .colab-df-spinner {\n",
       "    border: 2px solid var(--fill-color);\n",
       "    border-color: transparent;\n",
       "    border-bottom-color: var(--fill-color);\n",
       "    animation:\n",
       "      spin 1s steps(1) infinite;\n",
       "  }\n",
       "\n",
       "  @keyframes spin {\n",
       "    0% {\n",
       "      border-color: transparent;\n",
       "      border-bottom-color: var(--fill-color);\n",
       "      border-left-color: var(--fill-color);\n",
       "    }\n",
       "    20% {\n",
       "      border-color: transparent;\n",
       "      border-left-color: var(--fill-color);\n",
       "      border-top-color: var(--fill-color);\n",
       "    }\n",
       "    30% {\n",
       "      border-color: transparent;\n",
       "      border-left-color: var(--fill-color);\n",
       "      border-top-color: var(--fill-color);\n",
       "      border-right-color: var(--fill-color);\n",
       "    }\n",
       "    40% {\n",
       "      border-color: transparent;\n",
       "      border-right-color: var(--fill-color);\n",
       "      border-top-color: var(--fill-color);\n",
       "    }\n",
       "    60% {\n",
       "      border-color: transparent;\n",
       "      border-right-color: var(--fill-color);\n",
       "    }\n",
       "    80% {\n",
       "      border-color: transparent;\n",
       "      border-right-color: var(--fill-color);\n",
       "      border-bottom-color: var(--fill-color);\n",
       "    }\n",
       "    90% {\n",
       "      border-color: transparent;\n",
       "      border-bottom-color: var(--fill-color);\n",
       "    }\n",
       "  }\n",
       "</style>\n",
       "\n",
       "  <script>\n",
       "    async function quickchart(key) {\n",
       "      const quickchartButtonEl =\n",
       "        document.querySelector('#' + key + ' button');\n",
       "      quickchartButtonEl.disabled = true;  // To prevent multiple clicks.\n",
       "      quickchartButtonEl.classList.add('colab-df-spinner');\n",
       "      try {\n",
       "        const charts = await google.colab.kernel.invokeFunction(\n",
       "            'suggestCharts', [key], {});\n",
       "      } catch (error) {\n",
       "        console.error('Error during call to suggestCharts:', error);\n",
       "      }\n",
       "      quickchartButtonEl.classList.remove('colab-df-spinner');\n",
       "      quickchartButtonEl.classList.add('colab-df-quickchart-complete');\n",
       "    }\n",
       "    (() => {\n",
       "      let quickchartButtonEl =\n",
       "        document.querySelector('#df-3c999c87-e610-43f9-b204-9354431feb59 button');\n",
       "      quickchartButtonEl.style.display =\n",
       "        google.colab.kernel.accessAllowed ? 'block' : 'none';\n",
       "    })();\n",
       "  </script>\n",
       "</div>\n",
       "\n",
       "    </div>\n",
       "  </div>\n"
      ],
      "text/plain": [
       "   borrower_id  loan_amnt       term                   emp_title emp_length  \\\n",
       "0       537185    16075.0  60 months                         NaN        NaN   \n",
       "1      1810804     8000.0  36 months  Graydon Head & Ritchey LLP  10+ years   \n",
       "2       388855    23700.0  36 months              Director of IT    3 years   \n",
       "3      1137067     1200.0  36 months                         NaN        NaN   \n",
       "4        14585     3500.0  36 months                         NaN        NaN   \n",
       "\n",
       "  home_ownership  annual_inc     outcome             purpose addr_state  ...  \\\n",
       "0       MORTGAGE     50289.0  Fully Paid    home_improvement         SC  ...   \n",
       "1       MORTGAGE     64000.0  Fully Paid  debt_consolidation         IN  ...   \n",
       "2           RENT     88000.0  Fully Paid  debt_consolidation         FL  ...   \n",
       "3       MORTGAGE     81000.0  Fully Paid               other         NY  ...   \n",
       "4           RENT     11736.0  Fully Paid  debt_consolidation         WA  ...   \n",
       "\n",
       "   num_tl_90g_dpd_24m  num_tl_op_past_12m pct_tl_nvr_dlq  percent_bc_gt_75  \\\n",
       "0                 0.0                 2.0           95.7             100.0   \n",
       "1                 0.0                 0.0          100.0              75.0   \n",
       "2                 0.0                 5.0          100.0              10.0   \n",
       "3                 0.0                 4.0           83.3             100.0   \n",
       "4                 0.0                 1.0          100.0             100.0   \n",
       "\n",
       "   pub_rec_bankruptcies  tax_liens  tot_hi_cred_lim  total_bal_ex_mort  \\\n",
       "0                   0.0          0         227376.0            15756.0   \n",
       "1                   1.0          0         121881.0            33618.0   \n",
       "2                   1.0          0          99201.0            58898.0   \n",
       "3                   0.0          0         203983.0            20609.0   \n",
       "4                   1.0          0          16200.0             9459.0   \n",
       "\n",
       "   total_bc_limit  total_il_high_credit_limit  \n",
       "0         11900.0                      6000.0  \n",
       "1         13700.0                     29400.0  \n",
       "2         18700.0                     69501.0  \n",
       "3          1100.0                     26183.0  \n",
       "4          2000.0                         0.0  \n",
       "\n",
       "[5 rows x 78 columns]"
      ]
     },
     "execution_count": 30,
     "metadata": {},
     "output_type": "execute_result"
    }
   ],
   "source": [
    "df = pd.read_excel(\"Tillit_Data_Science_Tech_Test.xlsx\", sheet_name=\"data\")\n",
    "df.head()"
   ]
  },
  {
   "cell_type": "code",
   "execution_count": 31,
   "metadata": {
    "colab": {
     "base_uri": "https://localhost:8080/",
     "height": 0
    },
    "id": "59133a39-e71f-4925-8c8c-f5c90e65507a",
    "outputId": "814b107a-a907-4149-ef05-5e44271797e9"
   },
   "outputs": [
    {
     "name": "stdout",
     "output_type": "stream",
     "text": [
      "<class 'pandas.core.frame.DataFrame'>\n",
      "RangeIndex: 41029 entries, 0 to 41028\n",
      "Data columns (total 78 columns):\n",
      " #   Column                          Non-Null Count  Dtype         \n",
      "---  ------                          --------------  -----         \n",
      " 0   borrower_id                     41029 non-null  int64         \n",
      " 1   loan_amnt                       41006 non-null  float64       \n",
      " 2   term                            41029 non-null  object        \n",
      " 3   emp_title                       36311 non-null  object        \n",
      " 4   emp_length                      36628 non-null  object        \n",
      " 5   home_ownership                  41029 non-null  object        \n",
      " 6   annual_inc                      41029 non-null  float64       \n",
      " 7   outcome                         41029 non-null  object        \n",
      " 8   purpose                         41029 non-null  object        \n",
      " 9   addr_state                      41029 non-null  object        \n",
      " 10  dti                             41029 non-null  float64       \n",
      " 11  delinq_2yrs                     41029 non-null  int64         \n",
      " 12  earliest_cr_line                41029 non-null  datetime64[ns]\n",
      " 13  inq_last_6mths                  41029 non-null  int64         \n",
      " 14  mths_since_last_delinq          19875 non-null  float64       \n",
      " 15  mths_since_last_record          6816 non-null   float64       \n",
      " 16  open_acc                        41029 non-null  int64         \n",
      " 17  pub_rec                         41029 non-null  int64         \n",
      " 18  revol_bal                       41029 non-null  int64         \n",
      " 19  revol_util                      41005 non-null  float64       \n",
      " 20  total_acc                       41029 non-null  int64         \n",
      " 21  collections_12_mths_ex_med      41029 non-null  int64         \n",
      " 22  mths_since_last_major_derog     10651 non-null  float64       \n",
      " 23  acc_now_delinq                  41029 non-null  int64         \n",
      " 24  tot_coll_amt                    38625 non-null  float64       \n",
      " 25  tot_cur_bal                     38625 non-null  float64       \n",
      " 26  open_acc_6m                     13351 non-null  float64       \n",
      " 27  open_act_il                     13351 non-null  float64       \n",
      " 28  open_il_12m                     13351 non-null  float64       \n",
      " 29  open_il_24m                     13351 non-null  float64       \n",
      " 30  mths_since_rcnt_il              13015 non-null  float64       \n",
      " 31  total_bal_il                    13351 non-null  float64       \n",
      " 32  il_util                         11674 non-null  float64       \n",
      " 33  open_rv_12m                     13351 non-null  float64       \n",
      " 34  open_rv_24m                     13351 non-null  float64       \n",
      " 35  max_bal_bc                      13351 non-null  float64       \n",
      " 36  all_util                        13349 non-null  float64       \n",
      " 37  total_rev_hi_lim                38625 non-null  float64       \n",
      " 38  inq_fi                          13351 non-null  float64       \n",
      " 39  total_cu_tl                     13351 non-null  float64       \n",
      " 40  inq_last_12m                    13351 non-null  float64       \n",
      " 41  acc_open_past_24mths            39380 non-null  float64       \n",
      " 42  avg_cur_bal                     38625 non-null  float64       \n",
      " 43  bc_open_to_buy                  38930 non-null  float64       \n",
      " 44  bc_util                         38902 non-null  float64       \n",
      " 45  chargeoff_within_12_mths        41029 non-null  int64         \n",
      " 46  delinq_amnt                     41029 non-null  int64         \n",
      " 47  mo_sin_old_il_acct              37334 non-null  float64       \n",
      " 48  mo_sin_old_rev_tl_op            38625 non-null  float64       \n",
      " 49  mo_sin_rcnt_rev_tl_op           38625 non-null  float64       \n",
      " 50  mo_sin_rcnt_tl                  38625 non-null  float64       \n",
      " 51  mort_acc                        39380 non-null  float64       \n",
      " 52  mths_since_recent_bc            38960 non-null  float64       \n",
      " 53  mths_since_recent_bc_dlq        9455 non-null   float64       \n",
      " 54  mths_since_recent_inq           35686 non-null  float64       \n",
      " 55  mths_since_recent_revol_delinq  13256 non-null  float64       \n",
      " 56  num_accts_ever_120_pd           38625 non-null  float64       \n",
      " 57  num_actv_bc_tl                  38625 non-null  float64       \n",
      " 58  num_actv_rev_tl                 38625 non-null  float64       \n",
      " 59  num_bc_sats                     39072 non-null  float64       \n",
      " 60  num_bc_tl                       38625 non-null  float64       \n",
      " 61  num_il_tl                       38625 non-null  float64       \n",
      " 62  num_op_rev_tl                   38625 non-null  float64       \n",
      " 63  num_rev_accts                   38625 non-null  float64       \n",
      " 64  num_rev_tl_bal_gt_0             38625 non-null  float64       \n",
      " 65  num_sats                        39072 non-null  float64       \n",
      " 66  num_tl_120dpd_2m                36152 non-null  float64       \n",
      " 67  num_tl_30dpd                    38625 non-null  float64       \n",
      " 68  num_tl_90g_dpd_24m              38625 non-null  float64       \n",
      " 69  num_tl_op_past_12m              38625 non-null  float64       \n",
      " 70  pct_tl_nvr_dlq                  38619 non-null  float64       \n",
      " 71  percent_bc_gt_75                38919 non-null  float64       \n",
      " 72  pub_rec_bankruptcies            41028 non-null  float64       \n",
      " 73  tax_liens                       41029 non-null  int64         \n",
      " 74  tot_hi_cred_lim                 38625 non-null  float64       \n",
      " 75  total_bal_ex_mort               39380 non-null  float64       \n",
      " 76  total_bc_limit                  39380 non-null  float64       \n",
      " 77  total_il_high_credit_limit      38625 non-null  float64       \n",
      "dtypes: datetime64[ns](1), float64(58), int64(12), object(7)\n",
      "memory usage: 24.4+ MB\n"
     ]
    }
   ],
   "source": [
    "df.info()"
   ]
  },
  {
   "cell_type": "code",
   "execution_count": 32,
   "metadata": {
    "colab": {
     "base_uri": "https://localhost:8080/",
     "height": 0
    },
    "id": "3d4e63a6-d0d9-4b6a-84fc-336882f693a5",
    "outputId": "fcf28759-e4cb-4906-b57f-e98da2ec5874"
   },
   "outputs": [
    {
     "name": "stdout",
     "output_type": "stream",
     "text": [
      "borrower_id : 0\n",
      "loan_amnt : 23\n",
      "term : 0\n",
      "emp_title : 4718\n",
      "emp_length : 4401\n",
      "home_ownership : 0\n",
      "annual_inc : 0\n",
      "outcome : 0\n",
      "purpose : 0\n",
      "addr_state : 0\n",
      "dti : 0\n",
      "delinq_2yrs : 0\n",
      "earliest_cr_line : 0\n",
      "inq_last_6mths : 0\n",
      "mths_since_last_delinq : 21154\n",
      "mths_since_last_record : 34213\n",
      "open_acc : 0\n",
      "pub_rec : 0\n",
      "revol_bal : 0\n",
      "revol_util : 24\n",
      "total_acc : 0\n",
      "collections_12_mths_ex_med : 0\n",
      "mths_since_last_major_derog : 30378\n",
      "acc_now_delinq : 0\n",
      "tot_coll_amt : 2404\n",
      "tot_cur_bal : 2404\n",
      "open_acc_6m : 27678\n",
      "open_act_il : 27678\n",
      "open_il_12m : 27678\n",
      "open_il_24m : 27678\n",
      "mths_since_rcnt_il : 28014\n",
      "total_bal_il : 27678\n",
      "il_util : 29355\n",
      "open_rv_12m : 27678\n",
      "open_rv_24m : 27678\n",
      "max_bal_bc : 27678\n",
      "all_util : 27680\n",
      "total_rev_hi_lim : 2404\n",
      "inq_fi : 27678\n",
      "total_cu_tl : 27678\n",
      "inq_last_12m : 27678\n",
      "acc_open_past_24mths : 1649\n",
      "avg_cur_bal : 2404\n",
      "bc_open_to_buy : 2099\n",
      "bc_util : 2127\n",
      "chargeoff_within_12_mths : 0\n",
      "delinq_amnt : 0\n",
      "mo_sin_old_il_acct : 3695\n",
      "mo_sin_old_rev_tl_op : 2404\n",
      "mo_sin_rcnt_rev_tl_op : 2404\n",
      "mo_sin_rcnt_tl : 2404\n",
      "mort_acc : 1649\n",
      "mths_since_recent_bc : 2069\n",
      "mths_since_recent_bc_dlq : 31574\n",
      "mths_since_recent_inq : 5343\n",
      "mths_since_recent_revol_delinq : 27773\n",
      "num_accts_ever_120_pd : 2404\n",
      "num_actv_bc_tl : 2404\n",
      "num_actv_rev_tl : 2404\n",
      "num_bc_sats : 1957\n",
      "num_bc_tl : 2404\n",
      "num_il_tl : 2404\n",
      "num_op_rev_tl : 2404\n",
      "num_rev_accts : 2404\n",
      "num_rev_tl_bal_gt_0 : 2404\n",
      "num_sats : 1957\n",
      "num_tl_120dpd_2m : 4877\n",
      "num_tl_30dpd : 2404\n",
      "num_tl_90g_dpd_24m : 2404\n",
      "num_tl_op_past_12m : 2404\n",
      "pct_tl_nvr_dlq : 2410\n",
      "percent_bc_gt_75 : 2110\n",
      "pub_rec_bankruptcies : 1\n",
      "tax_liens : 0\n",
      "tot_hi_cred_lim : 2404\n",
      "total_bal_ex_mort : 1649\n",
      "total_bc_limit : 1649\n",
      "total_il_high_credit_limit : 2404\n"
     ]
    }
   ],
   "source": [
    "for col in df.columns:\n",
    "    print(col,\":\",df[col].isnull().sum())"
   ]
  },
  {
   "cell_type": "code",
   "execution_count": 33,
   "metadata": {
    "colab": {
     "base_uri": "https://localhost:8080/",
     "height": 0
    },
    "id": "65424427-63cd-43d4-8bf9-be162a11fe8a",
    "outputId": "d11ef5b7-bc2f-4a99-9f0e-af93dd0dce5f"
   },
   "outputs": [
    {
     "name": "stdout",
     "output_type": "stream",
     "text": [
      "Value counts for term:\n",
      "36 months    30250\n",
      "60 months    10779\n",
      "Name: term, dtype: int64\n",
      "\n",
      "\n",
      "Value counts for emp_title:\n",
      "Manager                     552\n",
      "Teacher                     538\n",
      "Supervisor                  264\n",
      "Registered Nurse            236\n",
      "RN                          230\n",
      "                           ... \n",
      "Special Programs Auditor      1\n",
      "LEAD CLERK                    1\n",
      "Packaging                     1\n",
      "City of Paris                 1\n",
      "Signature Healthcare          1\n",
      "Name: emp_title, Length: 20348, dtype: int64\n",
      "\n",
      "\n",
      "Value counts for emp_length:\n",
      "10+ years    13932\n",
      "2 years       3252\n",
      "3 years       2932\n",
      "< 1 year      2755\n",
      "5 years       2393\n",
      "4 years       2287\n",
      "1 year        2164\n",
      "6 years       1840\n",
      "8 years       1819\n",
      "7 years       1770\n",
      "9 years       1484\n",
      "Name: emp_length, dtype: int64\n",
      "\n",
      "\n",
      "Value counts for home_ownership:\n",
      "MORTGAGE    21694\n",
      "RENT        15058\n",
      "OWN          4267\n",
      "OTHER           5\n",
      "ANY             3\n",
      "NONE            2\n",
      "Name: home_ownership, dtype: int64\n",
      "\n",
      "\n",
      "Value counts for outcome:\n",
      "Fully Paid    40029\n",
      "Defaulted      1000\n",
      "Name: outcome, dtype: int64\n",
      "\n",
      "\n",
      "Value counts for purpose:\n",
      "debt_consolidation    24578\n",
      "credit_card            8345\n",
      "home_improvement       2493\n",
      "other                  2403\n",
      "major_purchase          709\n",
      "small_business          637\n",
      "medical                 452\n",
      "moving                  412\n",
      "car                     334\n",
      "vacation                300\n",
      "house                   249\n",
      "wedding                  74\n",
      "renewable_energy         37\n",
      "educational               6\n",
      "Name: purpose, dtype: int64\n",
      "\n",
      "\n",
      "Value counts for addr_state:\n",
      "CA    6180\n",
      "TX    3409\n",
      "NY    3262\n",
      "FL    2755\n",
      "IL    1576\n",
      "NJ    1491\n",
      "GA    1471\n",
      "PA    1383\n",
      "OH    1274\n",
      "NC    1231\n",
      "VA    1208\n",
      "MI    1119\n",
      "MD     970\n",
      "WA     964\n",
      "AZ     930\n",
      "CO     915\n",
      "MA     855\n",
      "MN     675\n",
      "MO     634\n",
      "IN     629\n",
      "NV     615\n",
      "TN     613\n",
      "CT     589\n",
      "SC     529\n",
      "WI     497\n",
      "OR     492\n",
      "AL     484\n",
      "LA     409\n",
      "KY     399\n",
      "OK     379\n",
      "KS     359\n",
      "UT     312\n",
      "AR     292\n",
      "HI     247\n",
      "NM     240\n",
      "NH     207\n",
      "MS     187\n",
      "WV     178\n",
      "RI     167\n",
      "MT     124\n",
      "DE     117\n",
      "DC     111\n",
      "AK     100\n",
      "WY      96\n",
      "NE      81\n",
      "SD      68\n",
      "VT      65\n",
      "ME      54\n",
      "ND      48\n",
      "ID      39\n",
      "Name: addr_state, dtype: int64\n",
      "\n",
      "\n"
     ]
    }
   ],
   "source": [
    "categorical_vars = ['term', 'emp_title', 'emp_length', 'home_ownership', 'outcome', 'purpose', 'addr_state']\n",
    "\n",
    "for var in categorical_vars:\n",
    "    print(f'Value counts for {var}:')\n",
    "    print(df[var].value_counts())\n",
    "    print('\\n')\n"
   ]
  },
  {
   "cell_type": "markdown",
   "metadata": {
    "id": "117e24da-2b48-44f1-81c1-2fdf914c8378"
   },
   "source": [
    "### Dropping columns with more than 50% missing values"
   ]
  },
  {
   "cell_type": "code",
   "execution_count": 34,
   "metadata": {
    "id": "14df6ac3-2481-45b3-aa0a-4d3cd62e843d"
   },
   "outputs": [],
   "source": [
    "threshold = 0.5\n",
    "cols_to_drop = df.columns[df.isnull().mean() > threshold]\n",
    "df.drop(columns=cols_to_drop, inplace=True)\n"
   ]
  },
  {
   "cell_type": "markdown",
   "metadata": {
    "id": "e23a866d-1889-4e2e-a9d4-3e53f927a42d"
   },
   "source": [
    "### Percentage of missing values in the remainging columns"
   ]
  },
  {
   "cell_type": "code",
   "execution_count": 35,
   "metadata": {
    "colab": {
     "base_uri": "https://localhost:8080/",
     "height": 0
    },
    "id": "b4398c7a-845b-4311-b0e8-230d682ef4f3",
    "outputId": "13b8215a-b70c-48a9-ed56-61292a2b4b63"
   },
   "outputs": [
    {
     "name": "stdout",
     "output_type": "stream",
     "text": [
      "borrower_id : 0.0\n",
      "loan_amnt : 0.05605791025859758\n",
      "term : 0.0\n",
      "emp_title : 11.499183504350581\n",
      "emp_length : 10.726559262960345\n",
      "home_ownership : 0.0\n",
      "annual_inc : 0.0\n",
      "outcome : 0.0\n",
      "purpose : 0.0\n",
      "addr_state : 0.0\n",
      "dti : 0.0\n",
      "delinq_2yrs : 0.0\n",
      "earliest_cr_line : 0.0\n",
      "inq_last_6mths : 0.0\n",
      "open_acc : 0.0\n",
      "pub_rec : 0.0\n",
      "revol_bal : 0.0\n",
      "revol_util : 0.05849521070462356\n",
      "total_acc : 0.0\n",
      "collections_12_mths_ex_med : 0.0\n",
      "acc_now_delinq : 0.0\n",
      "tot_coll_amt : 5.85927027224646\n",
      "tot_cur_bal : 5.85927027224646\n",
      "total_rev_hi_lim : 5.85927027224646\n",
      "acc_open_past_24mths : 4.019108435496844\n",
      "avg_cur_bal : 5.85927027224646\n",
      "bc_open_to_buy : 5.115893636208535\n",
      "bc_util : 5.184138048697263\n",
      "chargeoff_within_12_mths : 0.0\n",
      "delinq_amnt : 0.0\n",
      "mo_sin_old_il_acct : 9.005825148066002\n",
      "mo_sin_old_rev_tl_op : 5.85927027224646\n",
      "mo_sin_rcnt_rev_tl_op : 5.85927027224646\n",
      "mo_sin_rcnt_tl : 5.85927027224646\n",
      "mort_acc : 4.019108435496844\n",
      "mths_since_recent_bc : 5.042774622827756\n",
      "mths_since_recent_inq : 13.02249628311682\n",
      "num_accts_ever_120_pd : 5.85927027224646\n",
      "num_actv_bc_tl : 5.85927027224646\n",
      "num_actv_rev_tl : 5.85927027224646\n",
      "num_bc_sats : 4.769796972872846\n",
      "num_bc_tl : 5.85927027224646\n",
      "num_il_tl : 5.85927027224646\n",
      "num_op_rev_tl : 5.85927027224646\n",
      "num_rev_accts : 5.85927027224646\n",
      "num_rev_tl_bal_gt_0 : 5.85927027224646\n",
      "num_sats : 4.769796972872846\n",
      "num_tl_120dpd_2m : 11.886714275268712\n",
      "num_tl_30dpd : 5.85927027224646\n",
      "num_tl_90g_dpd_24m : 5.85927027224646\n",
      "num_tl_op_past_12m : 5.85927027224646\n",
      "pct_tl_nvr_dlq : 5.873894074922616\n",
      "percent_bc_gt_75 : 5.142703941114822\n",
      "pub_rec_bankruptcies : 0.0024373004460259817\n",
      "tax_liens : 0.0\n",
      "tot_hi_cred_lim : 5.85927027224646\n",
      "total_bal_ex_mort : 4.019108435496844\n",
      "total_bc_limit : 4.019108435496844\n",
      "total_il_high_credit_limit : 5.85927027224646\n"
     ]
    }
   ],
   "source": [
    "for col in df.columns:\n",
    "    print(col,\":\",df[col].isnull().sum()/41029*100)"
   ]
  },
  {
   "cell_type": "markdown",
   "metadata": {
    "id": "c6c8610c-45e1-4897-9b7b-eb29f87f075b"
   },
   "source": [
    "### By analysing the percentage of missing values in the remaining columns, the highest missing value percentage is 13%. So we can impute these missing values using SimpleImputer"
   ]
  },
  {
   "cell_type": "markdown",
   "metadata": {
    "id": "da2ef1cc-57fc-4e17-a5a6-ff6d3369c77f"
   },
   "source": [
    "### Imputing missing values for numerical columns"
   ]
  },
  {
   "cell_type": "code",
   "execution_count": 36,
   "metadata": {
    "id": "d9bf3976-4ad4-4758-90a2-6a79ddf5e4a1"
   },
   "outputs": [],
   "source": [
    "from sklearn.impute import SimpleImputer\n",
    "numerical_cols = df.select_dtypes(include=['float64', 'int64']).columns\n",
    "imputer = SimpleImputer(strategy='median')\n",
    "df[numerical_cols] = imputer.fit_transform(df[numerical_cols])"
   ]
  },
  {
   "cell_type": "code",
   "execution_count": 37,
   "metadata": {
    "colab": {
     "base_uri": "https://localhost:8080/",
     "height": 0
    },
    "id": "8732563c-efb5-498f-b29b-eaf3ce317ddb",
    "outputId": "0216433b-3fb5-4f87-9594-4e2879697f91"
   },
   "outputs": [
    {
     "name": "stdout",
     "output_type": "stream",
     "text": [
      "<class 'pandas.core.frame.DataFrame'>\n",
      "RangeIndex: 41029 entries, 0 to 41028\n",
      "Data columns (total 59 columns):\n",
      " #   Column                      Non-Null Count  Dtype         \n",
      "---  ------                      --------------  -----         \n",
      " 0   borrower_id                 41029 non-null  float64       \n",
      " 1   loan_amnt                   41029 non-null  float64       \n",
      " 2   term                        41029 non-null  object        \n",
      " 3   emp_title                   36311 non-null  object        \n",
      " 4   emp_length                  36628 non-null  object        \n",
      " 5   home_ownership              41029 non-null  object        \n",
      " 6   annual_inc                  41029 non-null  float64       \n",
      " 7   outcome                     41029 non-null  object        \n",
      " 8   purpose                     41029 non-null  object        \n",
      " 9   addr_state                  41029 non-null  object        \n",
      " 10  dti                         41029 non-null  float64       \n",
      " 11  delinq_2yrs                 41029 non-null  float64       \n",
      " 12  earliest_cr_line            41029 non-null  datetime64[ns]\n",
      " 13  inq_last_6mths              41029 non-null  float64       \n",
      " 14  open_acc                    41029 non-null  float64       \n",
      " 15  pub_rec                     41029 non-null  float64       \n",
      " 16  revol_bal                   41029 non-null  float64       \n",
      " 17  revol_util                  41029 non-null  float64       \n",
      " 18  total_acc                   41029 non-null  float64       \n",
      " 19  collections_12_mths_ex_med  41029 non-null  float64       \n",
      " 20  acc_now_delinq              41029 non-null  float64       \n",
      " 21  tot_coll_amt                41029 non-null  float64       \n",
      " 22  tot_cur_bal                 41029 non-null  float64       \n",
      " 23  total_rev_hi_lim            41029 non-null  float64       \n",
      " 24  acc_open_past_24mths        41029 non-null  float64       \n",
      " 25  avg_cur_bal                 41029 non-null  float64       \n",
      " 26  bc_open_to_buy              41029 non-null  float64       \n",
      " 27  bc_util                     41029 non-null  float64       \n",
      " 28  chargeoff_within_12_mths    41029 non-null  float64       \n",
      " 29  delinq_amnt                 41029 non-null  float64       \n",
      " 30  mo_sin_old_il_acct          41029 non-null  float64       \n",
      " 31  mo_sin_old_rev_tl_op        41029 non-null  float64       \n",
      " 32  mo_sin_rcnt_rev_tl_op       41029 non-null  float64       \n",
      " 33  mo_sin_rcnt_tl              41029 non-null  float64       \n",
      " 34  mort_acc                    41029 non-null  float64       \n",
      " 35  mths_since_recent_bc        41029 non-null  float64       \n",
      " 36  mths_since_recent_inq       41029 non-null  float64       \n",
      " 37  num_accts_ever_120_pd       41029 non-null  float64       \n",
      " 38  num_actv_bc_tl              41029 non-null  float64       \n",
      " 39  num_actv_rev_tl             41029 non-null  float64       \n",
      " 40  num_bc_sats                 41029 non-null  float64       \n",
      " 41  num_bc_tl                   41029 non-null  float64       \n",
      " 42  num_il_tl                   41029 non-null  float64       \n",
      " 43  num_op_rev_tl               41029 non-null  float64       \n",
      " 44  num_rev_accts               41029 non-null  float64       \n",
      " 45  num_rev_tl_bal_gt_0         41029 non-null  float64       \n",
      " 46  num_sats                    41029 non-null  float64       \n",
      " 47  num_tl_120dpd_2m            41029 non-null  float64       \n",
      " 48  num_tl_30dpd                41029 non-null  float64       \n",
      " 49  num_tl_90g_dpd_24m          41029 non-null  float64       \n",
      " 50  num_tl_op_past_12m          41029 non-null  float64       \n",
      " 51  pct_tl_nvr_dlq              41029 non-null  float64       \n",
      " 52  percent_bc_gt_75            41029 non-null  float64       \n",
      " 53  pub_rec_bankruptcies        41029 non-null  float64       \n",
      " 54  tax_liens                   41029 non-null  float64       \n",
      " 55  tot_hi_cred_lim             41029 non-null  float64       \n",
      " 56  total_bal_ex_mort           41029 non-null  float64       \n",
      " 57  total_bc_limit              41029 non-null  float64       \n",
      " 58  total_il_high_credit_limit  41029 non-null  float64       \n",
      "dtypes: datetime64[ns](1), float64(51), object(7)\n",
      "memory usage: 18.5+ MB\n"
     ]
    }
   ],
   "source": [
    "df.info()"
   ]
  },
  {
   "cell_type": "code",
   "execution_count": 38,
   "metadata": {
    "colab": {
     "base_uri": "https://localhost:8080/",
     "height": 564
    },
    "id": "27e0ced7-e4bf-459f-b7e0-7b4ef76035e2",
    "outputId": "63e19d6d-dc78-40d3-dfe7-437c7bf6bde2"
   },
   "outputs": [
    {
     "data": {
      "image/png": "[encoded data removed]",
      "text/plain": [
       "<Figure size 800x600 with 1 Axes>"
      ]
     },
     "metadata": {},
     "output_type": "display_data"
    }
   ],
   "source": [
    "import matplotlib.pyplot as plt\n",
    "\n",
    "outcome_counts = df['outcome'].value_counts()\n",
    "\n",
    "plt.figure(figsize=(8, 6))\n",
    "outcome_counts.plot(kind='bar', color=['green', 'red'])\n",
    "plt.title('Outcome of Loans')\n",
    "plt.xlabel('Outcome')\n",
    "plt.ylabel('Count')\n",
    "plt.xticks(rotation=0)\n",
    "plt.show()\n"
   ]
  },
  {
   "cell_type": "markdown",
   "metadata": {
    "id": "603181cc-ad8b-4077-a305-74c9caafbf47"
   },
   "source": [
    "### We can say that the data is imbalanced\n",
    "### First building a model to find out the accuracy and then if the accuracy is less then we can balance the data"
   ]
  },
  {
   "cell_type": "code",
   "execution_count": 39,
   "metadata": {
    "id": "b86e811b-e3c3-4187-b0ce-ba0615239e42"
   },
   "outputs": [],
   "source": [
    "from sklearn.model_selection import train_test_split\n",
    "from sklearn.linear_model import LogisticRegression\n",
    "from sklearn.metrics import classification_report, accuracy_score\n",
    "from sklearn.preprocessing import LabelEncoder, OneHotEncoder\n",
    "from sklearn.compose import ColumnTransformer\n",
    "from sklearn.pipeline import Pipeline\n",
    "from sklearn.impute import SimpleImputer\n",
    "from sklearn.preprocessing import StandardScaler\n",
    "import warnings\n",
    "warnings.filterwarnings(\"ignore\")"
   ]
  },
  {
   "cell_type": "code",
   "execution_count": 40,
   "metadata": {
    "id": "f50e5489-f18e-44a1-bb41-115f1f4716f0"
   },
   "outputs": [],
   "source": [
    "df.drop(columns=['borrower_id'], inplace=True)\n",
    "X = df.drop(columns=['outcome'])\n",
    "y = df['outcome']\n",
    "X_train, X_test, y_train, y_test = train_test_split(X, y, test_size=0.2, random_state=42)\n"
   ]
  },
  {
   "cell_type": "code",
   "execution_count": 41,
   "metadata": {
    "id": "6d53d024-c3fe-487c-aed9-1230756fd995"
   },
   "outputs": [],
   "source": [
    "# Define numeric and categorical features\n",
    "numeric_features = X_train.select_dtypes(include=['float64', 'int64']).columns\n",
    "categorical_features = X_train.select_dtypes(include=['object']).columns\n",
    "\n",
    "# Define transformers for numeric and categorical features\n",
    "numeric_transformer = Pipeline(steps=[\n",
    "    ('imputer', SimpleImputer(strategy='median')),\n",
    "    ('scaler', StandardScaler())\n",
    "])\n",
    "\n",
    "categorical_transformer = Pipeline(steps=[\n",
    "    ('imputer', SimpleImputer(strategy='most_frequent')),\n",
    "    ('encoder', OneHotEncoder(handle_unknown='ignore'))\n",
    "])\n",
    "\n",
    "# Combine transformers using ColumnTransformer\n",
    "preprocessor = ColumnTransformer(\n",
    "    transformers=[\n",
    "        ('num', numeric_transformer, numeric_features),\n",
    "        ('cat', categorical_transformer, categorical_features)\n",
    "    ])\n",
    "\n"
   ]
  },
  {
   "cell_type": "code",
   "execution_count": 42,
   "metadata": {
    "id": "9d67a8bb-57e1-476f-8be0-647a821ac11f"
   },
   "outputs": [],
   "source": [
    "# Define the classifier\n",
    "classifier = LogisticRegression()\n",
    "\n",
    "# Create the pipeline\n",
    "pipeline = Pipeline(steps=[('preprocessor', preprocessor),\n",
    "                           ('classifier', classifier)])\n",
    "\n",
    "# Fit the pipeline\n",
    "pipeline.fit(X_train, y_train)\n",
    "\n",
    "# Make predictions\n",
    "y_pred = pipeline.predict(X_test)\n"
   ]
  },
  {
   "cell_type": "code",
   "execution_count": 43,
   "metadata": {
    "colab": {
     "base_uri": "https://localhost:8080/",
     "height": 0
    },
    "id": "36adf178-eb6c-4d0f-ac12-b7586641452f",
    "outputId": "7bb64439-9d60-4e33-ee0c-7bc2e9903f0c"
   },
   "outputs": [
    {
     "name": "stdout",
     "output_type": "stream",
     "text": [
      "Accuracy: 0.9786741408725322\n",
      "\n",
      "Classification Report:\n",
      "               precision    recall  f1-score   support\n",
      "\n",
      "   Defaulted       0.00      0.00      0.00       175\n",
      "  Fully Paid       0.98      1.00      0.99      8031\n",
      "\n",
      "    accuracy                           0.98      8206\n",
      "   macro avg       0.49      0.50      0.49      8206\n",
      "weighted avg       0.96      0.98      0.97      8206\n",
      "\n"
     ]
    }
   ],
   "source": [
    "print(\"Accuracy:\", accuracy_score(y_test, y_pred))\n",
    "print(\"\\nClassification Report:\\n\", classification_report(y_test, y_pred))"
   ]
  },
  {
   "cell_type": "markdown",
   "metadata": {
    "id": "27b658c7-23dc-4da6-b276-78a01a4e344d"
   },
   "source": [
    "### The accuracy of the model is 97.87% but it seems that the model is performing poorly in predicting minority class \"Defaulted\" as the precision, recall and f1-score of Defaulted class are all zero"
   ]
  },
  {
   "cell_type": "markdown",
   "metadata": {
    "id": "c4749eae-b12e-46da-b533-8168eb8e4e78"
   },
   "source": []
  },
  {
   "cell_type": "markdown",
   "metadata": {
    "id": "8c472fb2-a06b-4f5b-9951-3bc9526a1f05"
   },
   "source": [
    "### Using SMOTE to balance the data"
   ]
  },
  {
   "cell_type": "code",
   "execution_count": 44,
   "metadata": {
    "id": "190b031c-d3d8-4556-a979-64e909803c0a"
   },
   "outputs": [],
   "source": [
    "df[categorical_vars] = df[categorical_vars].astype(str)\n",
    "label_encoder = LabelEncoder()\n",
    "df_encoded = df.copy()\n",
    "for col in categorical_vars:\n",
    "    df_encoded[col] = label_encoder.fit_transform(df[col])\n"
   ]
  },
  {
   "cell_type": "code",
   "execution_count": 45,
   "metadata": {
    "colab": {
     "base_uri": "https://localhost:8080/",
     "height": 0
    },
    "id": "SH4aeaZpCMBz",
    "outputId": "deab6699-ce81-468f-a93a-0a15ad209562"
   },
   "outputs": [
    {
     "data": {
      "text/plain": [
       "['label_encoder.pkl']"
      ]
     },
     "execution_count": 45,
     "metadata": {},
     "output_type": "execute_result"
    }
   ],
   "source": [
    "import joblib\n",
    "joblib.dump(label_encoder, 'label_encoder.pkl')"
   ]
  },
  {
   "cell_type": "code",
   "execution_count": 46,
   "metadata": {
    "id": "5ccfabf8-7f37-49a8-b8b4-c618af2a3457"
   },
   "outputs": [],
   "source": [
    "X = df_encoded.drop('outcome', axis=1)\n",
    "y = df_encoded['outcome']\n"
   ]
  },
  {
   "cell_type": "code",
   "execution_count": 47,
   "metadata": {
    "colab": {
     "base_uri": "https://localhost:8080/",
     "height": 0
    },
    "id": "c82a0ea8-d6d1-4439-95e1-da4c593a9270",
    "outputId": "c9151adb-ca94-421b-ccff-ca425e40fd1f"
   },
   "outputs": [
    {
     "data": {
      "text/plain": [
       "loan_amnt                            float64\n",
       "term                                   int64\n",
       "emp_title                              int64\n",
       "emp_length                             int64\n",
       "home_ownership                         int64\n",
       "annual_inc                           float64\n",
       "purpose                                int64\n",
       "addr_state                             int64\n",
       "dti                                  float64\n",
       "delinq_2yrs                          float64\n",
       "earliest_cr_line              datetime64[ns]\n",
       "inq_last_6mths                       float64\n",
       "open_acc                             float64\n",
       "pub_rec                              float64\n",
       "revol_bal                            float64\n",
       "revol_util                           float64\n",
       "total_acc                            float64\n",
       "collections_12_mths_ex_med           float64\n",
       "acc_now_delinq                       float64\n",
       "tot_coll_amt                         float64\n",
       "tot_cur_bal                          float64\n",
       "total_rev_hi_lim                     float64\n",
       "acc_open_past_24mths                 float64\n",
       "avg_cur_bal                          float64\n",
       "bc_open_to_buy                       float64\n",
       "bc_util                              float64\n",
       "chargeoff_within_12_mths             float64\n",
       "delinq_amnt                          float64\n",
       "mo_sin_old_il_acct                   float64\n",
       "mo_sin_old_rev_tl_op                 float64\n",
       "mo_sin_rcnt_rev_tl_op                float64\n",
       "mo_sin_rcnt_tl                       float64\n",
       "mort_acc                             float64\n",
       "mths_since_recent_bc                 float64\n",
       "mths_since_recent_inq                float64\n",
       "num_accts_ever_120_pd                float64\n",
       "num_actv_bc_tl                       float64\n",
       "num_actv_rev_tl                      float64\n",
       "num_bc_sats                          float64\n",
       "num_bc_tl                            float64\n",
       "num_il_tl                            float64\n",
       "num_op_rev_tl                        float64\n",
       "num_rev_accts                        float64\n",
       "num_rev_tl_bal_gt_0                  float64\n",
       "num_sats                             float64\n",
       "num_tl_120dpd_2m                     float64\n",
       "num_tl_30dpd                         float64\n",
       "num_tl_90g_dpd_24m                   float64\n",
       "num_tl_op_past_12m                   float64\n",
       "pct_tl_nvr_dlq                       float64\n",
       "percent_bc_gt_75                     float64\n",
       "pub_rec_bankruptcies                 float64\n",
       "tax_liens                            float64\n",
       "tot_hi_cred_lim                      float64\n",
       "total_bal_ex_mort                    float64\n",
       "total_bc_limit                       float64\n",
       "total_il_high_credit_limit           float64\n",
       "dtype: object"
      ]
     },
     "execution_count": 47,
     "metadata": {},
     "output_type": "execute_result"
    }
   ],
   "source": [
    "X.dtypes"
   ]
  },
  {
   "cell_type": "code",
   "execution_count": 48,
   "metadata": {
    "colab": {
     "base_uri": "https://localhost:8080/",
     "height": 0
    },
    "id": "a1ebef3c-c364-4dd4-8e4c-632675b2c1c5",
    "outputId": "555191c1-339e-4377-a9ae-a17caffef621"
   },
   "outputs": [
    {
     "data": {
      "text/plain": [
       "dtype('int64')"
      ]
     },
     "execution_count": 48,
     "metadata": {},
     "output_type": "execute_result"
    }
   ],
   "source": [
    "y.dtype"
   ]
  },
  {
   "cell_type": "code",
   "execution_count": 49,
   "metadata": {
    "id": "20c977ee-95af-4bb8-964b-838840f642fe"
   },
   "outputs": [],
   "source": [
    "X = X.drop(columns=['earliest_cr_line'])\n"
   ]
  },
  {
   "cell_type": "code",
   "execution_count": 50,
   "metadata": {
    "id": "c8499720-3d96-48d2-bb24-5c6c159fda77"
   },
   "outputs": [],
   "source": [
    "from imblearn.over_sampling import SMOTE\n",
    "smote = SMOTE(random_state=42)\n",
    "X_resampled, y_resampled = smote.fit_resample(X, y)"
   ]
  },
  {
   "cell_type": "code",
   "execution_count": 51,
   "metadata": {
    "colab": {
     "base_uri": "https://localhost:8080/",
     "height": 0
    },
    "id": "6de6e72d-68de-4e8d-bf87-fa6ed33b4a30",
    "outputId": "15524ab8-a14e-4595-d37c-e4385e40d520"
   },
   "outputs": [
    {
     "name": "stdout",
     "output_type": "stream",
     "text": [
      "Accuracy: 0.5994254309268049\n",
      "              precision    recall  f1-score   support\n",
      "\n",
      "           0       0.58      0.71      0.64      7995\n",
      "           1       0.63      0.49      0.55      8017\n",
      "\n",
      "    accuracy                           0.60     16012\n",
      "   macro avg       0.60      0.60      0.59     16012\n",
      "weighted avg       0.60      0.60      0.59     16012\n",
      "\n"
     ]
    }
   ],
   "source": [
    "X_train, X_test, y_train, y_test = train_test_split(X_resampled, y_resampled, test_size=0.2, random_state=42)\n",
    "logreg = LogisticRegression()\n",
    "logreg.fit(X_train, y_train)\n",
    "y_pred = logreg.predict(X_test)\n",
    "accuracy = accuracy_score(y_test, y_pred)\n",
    "print(\"Accuracy:\", accuracy)\n",
    "print(classification_report(y_test, y_pred))\n"
   ]
  },
  {
   "cell_type": "markdown",
   "metadata": {
    "id": "da3abb65-8d60-4af3-86bb-3c029e6130c4"
   },
   "source": [
    "### The accuracy was dropped but still got a good recall, precision and f1-score for two classes"
   ]
  },
  {
   "cell_type": "markdown",
   "metadata": {
    "id": "e8c007d3-eddc-451f-8ce3-f4e0a689d0ba"
   },
   "source": [
    "## Trying out other methods"
   ]
  },
  {
   "cell_type": "code",
   "execution_count": 52,
   "metadata": {
    "colab": {
     "base_uri": "https://localhost:8080/",
     "height": 0
    },
    "id": "2f46542f-9976-4967-9c48-9c1d05e7fcea",
    "outputId": "6584dfd9-49c4-41e6-e96e-9154dc13a41f"
   },
   "outputs": [
    {
     "name": "stdout",
     "output_type": "stream",
     "text": [
      "Random Forest Classifier:\n",
      "              precision    recall  f1-score   support\n",
      "\n",
      "           0       1.00      0.98      0.99      7995\n",
      "           1       0.98      1.00      0.99      8017\n",
      "\n",
      "    accuracy                           0.99     16012\n",
      "   macro avg       0.99      0.99      0.99     16012\n",
      "weighted avg       0.99      0.99      0.99     16012\n",
      "\n"
     ]
    }
   ],
   "source": [
    "from sklearn.ensemble import RandomForestClassifier\n",
    "rf_classifier = RandomForestClassifier(n_estimators=100, random_state=42)\n",
    "rf_classifier.fit(X_train, y_train)\n",
    "rf_y_pred = rf_classifier.predict(X_test)\n",
    "print(\"Random Forest Classifier:\")\n",
    "print(classification_report(y_test, rf_y_pred))\n"
   ]
  },
  {
   "cell_type": "code",
   "execution_count": 53,
   "metadata": {
    "colab": {
     "base_uri": "https://localhost:8080/",
     "height": 0
    },
    "id": "3a618e5c-b1c8-413d-91a4-b06a640ec323",
    "outputId": "7b419aca-b0c7-4aff-bb6a-47e6dc63dd38"
   },
   "outputs": [
    {
     "name": "stdout",
     "output_type": "stream",
     "text": [
      "Gradient Boosting Classifier:\n",
      "              precision    recall  f1-score   support\n",
      "\n",
      "           0       1.00      0.94      0.97      7995\n",
      "           1       0.95      1.00      0.97      8017\n",
      "\n",
      "    accuracy                           0.97     16012\n",
      "   macro avg       0.97      0.97      0.97     16012\n",
      "weighted avg       0.97      0.97      0.97     16012\n",
      "\n"
     ]
    }
   ],
   "source": [
    "from sklearn.ensemble import GradientBoostingClassifier\n",
    "gb_classifier = GradientBoostingClassifier(n_estimators=100, random_state=42)\n",
    "gb_classifier.fit(X_train, y_train)\n",
    "gb_y_pred = gb_classifier.predict(X_test)\n",
    "print(\"Gradient Boosting Classifier:\")\n",
    "print(classification_report(y_test, gb_y_pred))\n"
   ]
  },
  {
   "cell_type": "markdown",
   "metadata": {
    "id": "8784b258-ede3-4536-8ce6-84d83f9e6961"
   },
   "source": [
    "## Random Forest Classifer is the best of both and it is classifying both models with highest accuracy"
   ]
  },
  {
   "cell_type": "code",
   "execution_count": 54,
   "metadata": {
    "colab": {
     "base_uri": "https://localhost:8080/",
     "height": 564
    },
    "id": "18e0e36f-4dbb-47a4-95d6-2f9adf1908c7",
    "outputId": "c6deb5e9-e705-45fe-ea52-d66c4ed9d14a"
   },
   "outputs": [
    {
     "data": {
      "image/png": "[encoded data removed]",
      "text/plain": [
       "<Figure size 800x600 with 1 Axes>"
      ]
     },
     "metadata": {},
     "output_type": "display_data"
    }
   ],
   "source": [
    "from sklearn.metrics import confusion_matrix\n",
    "import matplotlib.pyplot as plt\n",
    "import seaborn as sns\n",
    "cm = confusion_matrix(y_test, rf_y_pred)\n",
    "plt.figure(figsize=(8, 6))\n",
    "sns.heatmap(cm, annot=True, cmap='Blues', fmt='g', cbar=False)\n",
    "plt.xlabel('Predicted')\n",
    "plt.ylabel('True')\n",
    "plt.title('Confusion Matrix')\n",
    "plt.show()"
   ]
  },
  {
   "cell_type": "code",
   "execution_count": 54,
   "metadata": {
    "id": "a6b85ea3-6f98-4208-bd38-92318abc7298"
   },
   "outputs": [],
   "source": []
  },
  {
   "cell_type": "code",
   "execution_count": 55,
   "metadata": {
    "colab": {
     "base_uri": "https://localhost:8080/",
     "height": 0
    },
    "id": "un9dT6gu9tjK",
    "outputId": "43d537c8-17b9-4e66-9904-3dac7f1ae970"
   },
   "outputs": [
    {
     "data": {
      "text/plain": [
       "['random_forest_model.pkl']"
      ]
     },
     "execution_count": 55,
     "metadata": {},
     "output_type": "execute_result"
    }
   ],
   "source": [
    "import joblib\n",
    "joblib.dump(rf_classifier, 'random_forest_model.pkl')"
   ]
  },
  {
   "cell_type": "code",
   "execution_count": 77,
   "metadata": {
    "colab": {
     "base_uri": "https://localhost:8080/",
     "height": 0
    },
    "id": "3gcr0OhnMBh3",
    "outputId": "fafffbd2-bc29-48bf-9bc8-c08db50093d0"
   },
   "outputs": [
    {
     "data": {
      "text/plain": [
       "Index(['loan_amnt', 'term', 'emp_title', 'emp_length', 'home_ownership',\n",
       "       'annual_inc', 'purpose', 'addr_state', 'dti', 'delinq_2yrs',\n",
       "       'inq_last_6mths', 'open_acc', 'pub_rec', 'revol_bal', 'revol_util',\n",
       "       'total_acc', 'collections_12_mths_ex_med', 'acc_now_delinq',\n",
       "       'tot_coll_amt', 'tot_cur_bal', 'total_rev_hi_lim',\n",
       "       'acc_open_past_24mths', 'avg_cur_bal', 'bc_open_to_buy', 'bc_util',\n",
       "       'chargeoff_within_12_mths', 'delinq_amnt', 'mo_sin_old_il_acct',\n",
       "       'mo_sin_old_rev_tl_op', 'mo_sin_rcnt_rev_tl_op', 'mo_sin_rcnt_tl',\n",
       "       'mort_acc', 'mths_since_recent_bc', 'mths_since_recent_inq',\n",
       "       'num_accts_ever_120_pd', 'num_actv_bc_tl', 'num_actv_rev_tl',\n",
       "       'num_bc_sats', 'num_bc_tl', 'num_il_tl', 'num_op_rev_tl',\n",
       "       'num_rev_accts', 'num_rev_tl_bal_gt_0', 'num_sats', 'num_tl_120dpd_2m',\n",
       "       'num_tl_30dpd', 'num_tl_90g_dpd_24m', 'num_tl_op_past_12m',\n",
       "       'pct_tl_nvr_dlq', 'percent_bc_gt_75', 'pub_rec_bankruptcies',\n",
       "       'tax_liens', 'tot_hi_cred_lim', 'total_bal_ex_mort', 'total_bc_limit',\n",
       "       'total_il_high_credit_limit'],\n",
       "      dtype='object')"
      ]
     },
     "execution_count": 77,
     "metadata": {},
     "output_type": "execute_result"
    }
   ],
   "source": [
    "X_test.columns"
   ]
  },
  {
   "cell_type": "code",
   "execution_count": 67,
   "metadata": {
    "colab": {
     "base_uri": "https://localhost:8080/",
     "height": 0
    },
    "id": "huBZunlG9xG_",
    "outputId": "7df786fb-c8d3-4662-bd3d-3aab9efffb43"
   },
   "outputs": [
    {
     "name": "stdout",
     "output_type": "stream",
     "text": [
      "[[6.04045967e+03 0.00000000e+00 1.59210000e+04 0.00000000e+00\n",
      "  5.00000000e+00 3.00229833e+04 2.00000000e+00 4.00000000e+00\n",
      "  3.50171316e+01 2.02298335e-01 0.00000000e+00 8.19080666e+00\n",
      "  0.00000000e+00 5.69251892e+03 7.70469219e+01 1.11908067e+01\n",
      "  0.00000000e+00 0.00000000e+00 0.00000000e+00 1.74496350e+04\n",
      "  7.48206850e+03 1.80919334e+00 2.30139198e+03 1.03253070e+03\n",
      "  9.00494591e+01 0.00000000e+00 0.00000000e+00 5.23816133e+01\n",
      "  6.86827849e+01 6.39310500e+00 6.39310500e+00 0.00000000e+00\n",
      "  6.39310500e+00 9.22528168e+00 2.02298335e-01 3.79770167e+00\n",
      "  4.59540333e+00 3.79770167e+00 5.59540333e+00 3.20229833e+00\n",
      "  6.19080666e+00 7.98850833e+00 4.59540333e+00 8.19080666e+00\n",
      "  0.00000000e+00 0.00000000e+00 2.02298335e-01 1.20229833e+00\n",
      "  1.00000000e+02 7.97701665e+01 0.00000000e+00 0.00000000e+00\n",
      "  3.82497861e+04 1.74496350e+04 5.80689500e+03 3.07677176e+04]]\n",
      "Prediction: [0]\n",
      "value:  Defaulted\n"
     ]
    }
   ],
   "source": [
    "import joblib\n",
    "import numpy as np\n",
    "\n",
    "# Load the saved model\n",
    "loaded_model = joblib.load('random_forest_model.pkl')\n",
    "\n",
    "test_data_index = 10\n",
    "test_data = X_test.iloc[test_data_index].values.reshape(1, -1)\n",
    "print(test_data)\n",
    "\n",
    "# Predict using the loaded model\n",
    "prediction = loaded_model.predict(test_data)\n",
    "print(\"Prediction:\", prediction)\n",
    "lab=['Defaulted','Fully Paid']\n",
    "print(\"value: \",lab[prediction[0]])"
   ]
  },
  {
   "cell_type": "code",
   "execution_count": 80,
   "metadata": {
    "id": "JXFbDyy0K3GY"
   },
   "outputs": [],
   "source": []
  }
 ],
 "metadata": {
  "colab": {
   "provenance": []
  },
  "kernelspec": {
   "display_name": "Python 3",
   "language": "python",
   "name": "python3"
  },
  "language_info": {
   "codemirror_mode": {
    "name": "ipython",
    "version": 3
   },
   "file_extension": ".py",
   "mimetype": "text/x-python",
   "name": "python",
   "nbconvert_exporter": "python",
   "pygments_lexer": "ipython3",
   "version": "3.8.5"
  }
 },
 "nbformat": 4,
 "nbformat_minor": 5
}
